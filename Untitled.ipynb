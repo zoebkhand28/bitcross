{
 "cells": [
  {
   "cell_type": "code",
   "execution_count": 3,
   "id": "2d7cd3a3",
   "metadata": {},
   "outputs": [],
   "source": [
    "import numpy as np\n",
    "import cv2 as cv\n",
    "import matplotlib.pyplot as plt"
   ]
  },
  {
   "cell_type": "code",
   "execution_count": 4,
   "id": "3535131b",
   "metadata": {},
   "outputs": [],
   "source": [
    "img = cv.imread(\"picture.jpg\")\n",
    "cv.imshow(\"image\",img)"
   ]
  },
  {
   "cell_type": "code",
   "execution_count": 5,
   "id": "aa390405",
   "metadata": {},
   "outputs": [],
   "source": [
    "def bin_image(image,dimension=24):\n",
    "    output = np.empty(list([dimension])+list(image.shape[:2]))\n",
    "    for i in range(image.shape[0]):\n",
    "        for j in range(image.shape[1]):\n",
    "            temp = list(\"\".join([format(x, 'b').zfill(8) for x in image[i,j]]))\n",
    "            output[:,i,j] = [int(x) for x in temp]\n",
    "    return output"
   ]
  },
  {
   "cell_type": "code",
   "execution_count": 6,
   "id": "97e9b9f4",
   "metadata": {},
   "outputs": [],
   "source": [
    "output = bin_image(img)"
   ]
  },
  {
   "cell_type": "code",
   "execution_count": 7,
   "id": "15136060",
   "metadata": {},
   "outputs": [
    {
     "data": {
      "text/plain": [
       "(24, 328, 529)"
      ]
     },
     "execution_count": 7,
     "metadata": {},
     "output_type": "execute_result"
    }
   ],
   "source": [
    "output.shape"
   ]
  },
  {
   "cell_type": "code",
   "execution_count": 15,
   "id": "76317b98",
   "metadata": {},
   "outputs": [
    {
     "data": {
      "text/plain": [
       "[29.890151689796674,\n",
       " 52.35545668311126,\n",
       " 40.31479090783346,\n",
       " 39.83240352252294,\n",
       " 39.37018765272719,\n",
       " 40.64963806537876,\n",
       " 41.69798054313246,\n",
       " 43.49555074000646,\n",
       " 16.77578496011803,\n",
       " 52.821130526995255,\n",
       " 38.242888099958506,\n",
       " 38.09995850431094,\n",
       " 36.76979113836507,\n",
       " 41.61095486191157,\n",
       " 43.844229793904745,\n",
       " 44.981903268938176,\n",
       " 22.053229747798422,\n",
       " 33.84146341463415,\n",
       " 38.89875051869611,\n",
       " 39.23590299230024,\n",
       " 47.26647148324035,\n",
       " 54.96104015860575,\n",
       " 51.413158744063814,\n",
       " 47.95864262990456]"
      ]
     },
     "execution_count": 15,
     "metadata": {},
     "output_type": "execute_result"
    }
   ],
   "source": [
    "x2 =[(feature.sum()/173512)*100 for feature in output]\n",
    "x2"
   ]
  },
  {
   "cell_type": "code",
   "execution_count": 16,
   "id": "9543834e",
   "metadata": {},
   "outputs": [
    {
     "data": {
      "text/plain": [
       "[51863.0,\n",
       " 90843.0,\n",
       " 69951.0,\n",
       " 69114.0,\n",
       " 68312.0,\n",
       " 70532.0,\n",
       " 72351.0,\n",
       " 75470.0,\n",
       " 29108.0,\n",
       " 91651.0,\n",
       " 66356.0,\n",
       " 66108.0,\n",
       " 63800.0,\n",
       " 72200.0,\n",
       " 76075.0,\n",
       " 78049.0,\n",
       " 38265.0,\n",
       " 58719.0,\n",
       " 67494.0,\n",
       " 68079.0,\n",
       " 82013.0,\n",
       " 95364.0,\n",
       " 89208.0,\n",
       " 83214.0]"
      ]
     },
     "execution_count": 16,
     "metadata": {},
     "output_type": "execute_result"
    }
   ],
   "source": [
    "x"
   ]
  },
  {
   "cell_type": "code",
   "execution_count": null,
   "id": "531303c1",
   "metadata": {},
   "outputs": [],
   "source": []
  }
 ],
 "metadata": {
  "kernelspec": {
   "display_name": "Python 3 (ipykernel)",
   "language": "python",
   "name": "python3"
  },
  "language_info": {
   "codemirror_mode": {
    "name": "ipython",
    "version": 3
   },
   "file_extension": ".py",
   "mimetype": "text/x-python",
   "name": "python",
   "nbconvert_exporter": "python",
   "pygments_lexer": "ipython3",
   "version": "3.9.12"
  },
  "toc": {
   "base_numbering": 1,
   "nav_menu": {},
   "number_sections": true,
   "sideBar": true,
   "skip_h1_title": false,
   "title_cell": "Table of Contents",
   "title_sidebar": "Contents",
   "toc_cell": false,
   "toc_position": {},
   "toc_section_display": true,
   "toc_window_display": false
  },
  "varInspector": {
   "cols": {
    "lenName": 16,
    "lenType": 16,
    "lenVar": 40
   },
   "kernels_config": {
    "python": {
     "delete_cmd_postfix": "",
     "delete_cmd_prefix": "del ",
     "library": "var_list.py",
     "varRefreshCmd": "print(var_dic_list())"
    },
    "r": {
     "delete_cmd_postfix": ") ",
     "delete_cmd_prefix": "rm(",
     "library": "var_list.r",
     "varRefreshCmd": "cat(var_dic_list()) "
    }
   },
   "types_to_exclude": [
    "module",
    "function",
    "builtin_function_or_method",
    "instance",
    "_Feature"
   ],
   "window_display": false
  }
 },
 "nbformat": 4,
 "nbformat_minor": 5
}
